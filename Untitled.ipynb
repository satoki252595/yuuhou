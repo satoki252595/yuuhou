{
 "cells": [
  {
   "cell_type": "code",
   "execution_count": 1,
   "id": "b1fd671b-8c7f-4964-93f2-703cfafee170",
   "metadata": {},
   "outputs": [
    {
     "ename": "NameError",
     "evalue": "name 'df' is not defined",
     "output_type": "error",
     "traceback": [
      "\u001b[0;31m---------------------------------------------------------------------------\u001b[0m",
      "\u001b[0;31mNameError\u001b[0m                                 Traceback (most recent call last)",
      "Cell \u001b[0;32mIn[1], line 46\u001b[0m\n\u001b[1;32m     42\u001b[0m         tunnel\u001b[38;5;241m.\u001b[39mstop()\n\u001b[1;32m     44\u001b[0m     \u001b[38;5;28;01mreturn\u001b[39;00m result\u001b[38;5;241m.\u001b[39minserted_ids\n\u001b[0;32m---> 46\u001b[0m ssh_connection_and_write(\u001b[43mdf\u001b[49m)\n",
      "\u001b[0;31mNameError\u001b[0m: name 'df' is not defined"
     ]
    }
   ],
   "source": [
    "from dotenv import load_dotenv\n",
    "import os\n",
    "from sshtunnel import SSHTunnelForwarder\n",
    "from pymongo import MongoClient\n",
    "\n",
    "\n",
    "# .envファイルをロードして環境変数を読み込む\n",
    "load_dotenv()\n",
    "\n",
    "# SSH接続情報（.envから読み込み）\n",
    "SSH_HOST = os.getenv('SSH_HOST')\n",
    "SSH_PORT = int(os.getenv('SSH_PORT', 22))\n",
    "SSH_USERNAME = os.getenv('SSH_USERNAME')\n",
    "SSH_PASSWORD = os.getenv('SSH_PASSWORD')\n",
    "\n",
    "# MongoDB接続情報（.envから読み込み）\n",
    "MONGO_HOST = os.getenv('MONGO_HOST', '127.0.0.1')\n",
    "MONGO_PORT = int(os.getenv('MONGO_PORT', 27017))\n",
    "DATABASE_NAME = 'test'\n",
    "COLLECTION_NAME = 'collection'\n",
    "    \n",
    "def ssh_connection_and_write(df):\n",
    "    tunnel = SSHTunnelForwarder(\n",
    "        (SSH_HOST, SSH_PORT),\n",
    "        ssh_username=SSH_USERNAME,\n",
    "        ssh_password=SSH_PASSWORD,\n",
    "        remote_bind_address=(MONGO_HOST, MONGO_PORT)\n",
    "    )\n",
    "    tunnel.start()\n",
    "    try:\n",
    "        local_port = tunnel.local_bind_port\n",
    "        print(f\"SSHトンネル確立: ローカルポート {local_port} がリモートの {MONGO_HOST}:{MONGO_PORT} にマッピングされました。\")\n",
    "        \n",
    "        client = MongoClient('127.0.0.1', local_port)\n",
    "        db = client[DATABASE_NAME]\n",
    "        collection = db[COLLECTION_NAME]\n",
    "        \n",
    "        records = df.to_dict(orient='records')\n",
    "        result = collection.insert_many(records)\n",
    "\n",
    "    finally:\n",
    "        tunnel.stop()\n",
    "        \n",
    "    return result.inserted_ids\n",
    "\n"
   ]
  },
  {
   "cell_type": "code",
   "execution_count": null,
   "id": "b3bf3ffa-f66a-4905-8b16-813222d243be",
   "metadata": {},
   "outputs": [],
   "source": []
  }
 ],
 "metadata": {
  "kernelspec": {
   "display_name": "Python 3 (ipykernel)",
   "language": "python",
   "name": "python3"
  },
  "language_info": {
   "codemirror_mode": {
    "name": "ipython",
    "version": 3
   },
   "file_extension": ".py",
   "mimetype": "text/x-python",
   "name": "python",
   "nbconvert_exporter": "python",
   "pygments_lexer": "ipython3",
   "version": "3.11.7"
  }
 },
 "nbformat": 4,
 "nbformat_minor": 5
}
